{
 "cells": [
  {
   "cell_type": "markdown",
   "metadata": {},
   "source": [
    "## Bagging: Implement a bagging model\n",
    "\n",
    "Using the Titanic dataset from [this](https://www.kaggle.com/c/titanic/overview) Kaggle competition.\n",
    "\n",
    "In this section, we will fit and evaluate a simple Random Forest model."
   ]
  },
  {
   "cell_type": "markdown",
   "metadata": {},
   "source": [
    "### Read in Data"
   ]
  },
  {
   "cell_type": "code",
   "execution_count": 1,
   "metadata": {},
   "outputs": [],
   "source": [
    "import joblib\n",
    "import pandas as pd\n",
    "from sklearn.ensemble import RandomForestClassifier\n",
    "from sklearn.model_selection import GridSearchCV\n",
    "\n",
    "tr_features = pd.read_csv('../../../train_features.csv')\n",
    "tr_labels = pd.read_csv('../../../train_labels.csv')"
   ]
  },
  {
   "cell_type": "markdown",
   "metadata": {},
   "source": [
    "### Hyperparameter tuning"
   ]
  },
  {
   "cell_type": "code",
   "execution_count": 2,
   "metadata": {},
   "outputs": [],
   "source": [
    "def print_results(results):\n",
    "    print('BEST PARAMS: {}\\n'.format(results.best_params_))\n",
    "\n",
    "    means = results.cv_results_['mean_test_score']\n",
    "    stds = results.cv_results_['std_test_score']\n",
    "    for mean, std, params in zip(means, stds, results.cv_results_['params']):\n",
    "        print('{} (+/-{}) for {}'.format(round(mean, 3), round(std * 2, 3), params))"
   ]
  },
  {
   "cell_type": "code",
   "execution_count": 3,
   "metadata": {},
   "outputs": [
    {
     "name": "stdout",
     "output_type": "stream",
     "text": [
      "BEST PARAMS: {'max_depth': 8, 'n_estimators': 250}\n",
      "\n",
      "0.794 (+/-0.101) for {'max_depth': 4, 'n_estimators': 5}\n",
      "0.813 (+/-0.118) for {'max_depth': 4, 'n_estimators': 50}\n",
      "0.813 (+/-0.114) for {'max_depth': 4, 'n_estimators': 250}\n",
      "0.818 (+/-0.129) for {'max_depth': 4, 'n_estimators': 500}\n",
      "0.794 (+/-0.111) for {'max_depth': 8, 'n_estimators': 5}\n",
      "0.817 (+/-0.085) for {'max_depth': 8, 'n_estimators': 50}\n",
      "0.82 (+/-0.077) for {'max_depth': 8, 'n_estimators': 250}\n",
      "0.815 (+/-0.092) for {'max_depth': 8, 'n_estimators': 500}\n",
      "0.768 (+/-0.116) for {'max_depth': 16, 'n_estimators': 5}\n",
      "0.809 (+/-0.071) for {'max_depth': 16, 'n_estimators': 50}\n",
      "0.813 (+/-0.078) for {'max_depth': 16, 'n_estimators': 250}\n",
      "0.813 (+/-0.071) for {'max_depth': 16, 'n_estimators': 500}\n",
      "0.785 (+/-0.043) for {'max_depth': 32, 'n_estimators': 5}\n",
      "0.815 (+/-0.079) for {'max_depth': 32, 'n_estimators': 50}\n",
      "0.807 (+/-0.084) for {'max_depth': 32, 'n_estimators': 250}\n",
      "0.813 (+/-0.078) for {'max_depth': 32, 'n_estimators': 500}\n",
      "0.798 (+/-0.07) for {'max_depth': None, 'n_estimators': 5}\n",
      "0.815 (+/-0.079) for {'max_depth': None, 'n_estimators': 50}\n",
      "0.817 (+/-0.07) for {'max_depth': None, 'n_estimators': 250}\n",
      "0.813 (+/-0.077) for {'max_depth': None, 'n_estimators': 500}\n"
     ]
    }
   ],
   "source": [
    "rf = RandomForestClassifier()\n",
    "parameters = {\n",
    "    'n_estimators': [5, 50, 250, 500],\n",
    "    'max_depth': [4, 8, 16, 32, None]\n",
    "}\n",
    "cv = GridSearchCV(rf, parameters, cv=5)\n",
    "cv.fit(tr_features, tr_labels.values.ravel())\n",
    "\n",
    "print_results(cv)"
   ]
  },
  {
   "cell_type": "code",
   "execution_count": 5,
   "metadata": {},
   "outputs": [
    {
     "data": {
      "text/plain": [
       "RandomForestClassifier(max_depth=8, n_estimators=250)"
      ]
     },
     "execution_count": 5,
     "metadata": {},
     "output_type": "execute_result"
    }
   ],
   "source": [
    "cv.best_estimator_"
   ]
  },
  {
   "cell_type": "markdown",
   "metadata": {},
   "source": [
    "### Write out pickled model"
   ]
  },
  {
   "cell_type": "code",
   "execution_count": 6,
   "metadata": {},
   "outputs": [
    {
     "data": {
      "text/plain": [
       "['../../../models/RF_model.pkl']"
      ]
     },
     "execution_count": 6,
     "metadata": {},
     "output_type": "execute_result"
    }
   ],
   "source": [
    "joblib.dump(cv.best_estimator_, '../../../models/RF_model.pkl')"
   ]
  },
  {
   "cell_type": "code",
   "execution_count": null,
   "metadata": {},
   "outputs": [],
   "source": []
  }
 ],
 "metadata": {
  "kernelspec": {
   "display_name": "Python 3",
   "language": "python",
   "name": "python3"
  },
  "language_info": {
   "codemirror_mode": {
    "name": "ipython",
    "version": 3
   },
   "file_extension": ".py",
   "mimetype": "text/x-python",
   "name": "python",
   "nbconvert_exporter": "python",
   "pygments_lexer": "ipython3",
   "version": "3.7.5"
  }
 },
 "nbformat": 4,
 "nbformat_minor": 2
}
